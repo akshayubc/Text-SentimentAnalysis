{
 "cells": [
  {
   "cell_type": "code",
   "execution_count": 1,
   "metadata": {},
   "outputs": [],
   "source": [
    "import pandas as pd\n",
    "import sklearn\n",
    "import matplotlib.pyplot as math\n",
    "import numpy as np\n",
    "import string\n",
    "from collections import Counter"
   ]
  },
  {
   "cell_type": "code",
   "execution_count": 2,
   "metadata": {},
   "outputs": [
    {
     "name": "stdout",
     "output_type": "stream",
     "text": [
      "Anthropocentrism refers to the belief of human beings as the most significant species on the planet or universe. Such a view motivates humans to exploit natural resources to yield instrumental value. On the other hand, biocentrism refers to protecting the intrinsic value of all beings (and not only humans). Intrinsic value refers to an organism holding a value of its own without any relations to other beings. Anthropocentric aim to maximize on the instrumental value of non-human beings while biocentric’s (such as Taylor) work towards preserving the intrinsic value of all beings.\n",
      "\n",
      "From an anthropocentric view, surviving the catastrophe made Ann the last person on the planet and the most significant individual in the universe. This view makes Ann superior to other species and separates her from nature. With the adoption of this view, Ann could put her interests first as anthropocentrism states that only humans have genuine interests [source]. The anthropocentric view diminishes any form of value non-human animals have which further opens doors for people to pursue activities (such as hunting, over-grazing, deforestation, etc) they desire without any concern for nature. As a result, Ann’s actions could be considered justifiable from an anthropocentric view.\n",
      "\n",
      "Biocentrism challenges human superiority over other animals and extends intrinsic value to other beings [source]. This view emphasizes each living being possesses inherent value and to portray respect towards all living beings. While anthropocentrism separates and places man beyond nature, Taylor’s biocentric view focuses on making the man a part of the natural system. A clear distinction can be observed between anthropocentrism being focused on fulfilling human interests while biocentrism aimed to appreciate the value and morality outside of human interests[source].\n",
      "\n",
      "Taylor’s biocentric outlook stands on four pillars: community, interdependence, and teleological centers of life as well as denial of human superiority [source]. These four pillars together would render Ann’s actions as morally impermissible from a biocentric outlook. Teleological center of life portrays how each organism’s primary goal is to survive while community and interdependence of life show how our actions affect our ecosystems as well as how essential other organisms are for our survival. In detail, system interdependency talks about the mutual relationship organisms have with each other, for instance, humans with trees for the supply of oxygen and trees getting watered or germinated with the assistance of humans. The final pillar, the denial of human superiority, is included by Taylor to challenge the anthropocentric view, thereby, condemning the action of Ann. \n",
      "\n",
      "Taylor would see destroying of remaining life by Ann as the destruction of all the pillars of biocentrism. The actions of Ann would disturb the remaining ecosystem and the survival instincts of the remaining beings. Due to these actions, there would also be no interdependence of life as Ann would be the last living being within the universe. In doing so, Ann also accepts human superiority by putting her interests before, further, knocking down the final pillar of a biocentric world. For Taylor, this would be a catastrophic fall of the biocentrism from the planet. \n",
      "\n",
      "Finally, it’s important to mention how Taylor does make exceptions for cases where inflicting pain on other animals is necessary for human survival. For instance, a starving man can eat the meat of another animal or if Ann’s cucumber allergies posed a serious threat to her survival then killing them would be justified as in doing so she protects her primary goal of survival. However, Ann’s primary reason for the destruction is because of her allergies to cucumber and to gain a sense of purpose until her final breath. Following these events show how Ann views the world from an anthropocentric lens and doesn’t hold a rational person’s view as per Taylor. In other words, from a biocentric outlook, as much as this morally impermissible the more it seems permissible from an anthropocentric view. \n",
      "\n"
     ]
    }
   ],
   "source": [
    "text = open('read.txt', encoding = 'utf-8').read()\n",
    "print(text)"
   ]
  },
  {
   "cell_type": "code",
   "execution_count": 3,
   "metadata": {},
   "outputs": [
    {
     "name": "stdout",
     "output_type": "stream",
     "text": [
      "anthropocentrism refers to the belief of human beings as the most significant species on the planet or universe. such a view motivates humans to exploit natural resources to yield instrumental value. on the other hand, biocentrism refers to protecting the intrinsic value of all beings (and not only humans). intrinsic value refers to an organism holding a value of its own without any relations to other beings. anthropocentric aim to maximize on the instrumental value of non-human beings while biocentric’s (such as taylor) work towards preserving the intrinsic value of all beings.\n",
      "\n",
      "from an anthropocentric view, surviving the catastrophe made ann the last person on the planet and the most significant individual in the universe. this view makes ann superior to other species and separates her from nature. with the adoption of this view, ann could put her interests first as anthropocentrism states that only humans have genuine interests [source]. the anthropocentric view diminishes any form of value non-human animals have which further opens doors for people to pursue activities (such as hunting, over-grazing, deforestation, etc) they desire without any concern for nature. as a result, ann’s actions could be considered justifiable from an anthropocentric view.\n",
      "\n",
      "biocentrism challenges human superiority over other animals and extends intrinsic value to other beings [source]. this view emphasizes each living being possesses inherent value and to portray respect towards all living beings. while anthropocentrism separates and places man beyond nature, taylor’s biocentric view focuses on making the man a part of the natural system. a clear distinction can be observed between anthropocentrism being focused on fulfilling human interests while biocentrism aimed to appreciate the value and morality outside of human interests[source].\n",
      "\n",
      "taylor’s biocentric outlook stands on four pillars: community, interdependence, and teleological centers of life as well as denial of human superiority [source]. these four pillars together would render ann’s actions as morally impermissible from a biocentric outlook. teleological center of life portrays how each organism’s primary goal is to survive while community and interdependence of life show how our actions affect our ecosystems as well as how essential other organisms are for our survival. in detail, system interdependency talks about the mutual relationship organisms have with each other, for instance, humans with trees for the supply of oxygen and trees getting watered or germinated with the assistance of humans. the final pillar, the denial of human superiority, is included by taylor to challenge the anthropocentric view, thereby, condemning the action of ann. \n",
      "\n",
      "taylor would see destroying of remaining life by ann as the destruction of all the pillars of biocentrism. the actions of ann would disturb the remaining ecosystem and the survival instincts of the remaining beings. due to these actions, there would also be no interdependence of life as ann would be the last living being within the universe. in doing so, ann also accepts human superiority by putting her interests before, further, knocking down the final pillar of a biocentric world. for taylor, this would be a catastrophic fall of the biocentrism from the planet. \n",
      "\n",
      "finally, it’s important to mention how taylor does make exceptions for cases where inflicting pain on other animals is necessary for human survival. for instance, a starving man can eat the meat of another animal or if ann’s cucumber allergies posed a serious threat to her survival then killing them would be justified as in doing so she protects her primary goal of survival. however, ann’s primary reason for the destruction is because of her allergies to cucumber and to gain a sense of purpose until her final breath. following these events show how ann views the world from an anthropocentric lens and doesn’t hold a rational person’s view as per taylor. in other words, from a biocentric outlook, as much as this morally impermissible the more it seems permissible from an anthropocentric view. \n",
      "\n"
     ]
    }
   ],
   "source": [
    "lower_case = text.lower()\n",
    "print(lower_case)"
   ]
  },
  {
   "cell_type": "code",
   "execution_count": 4,
   "metadata": {},
   "outputs": [
    {
     "name": "stdout",
     "output_type": "stream",
     "text": [
      "anthropocentrism refers to the belief of human beings as the most significant species on the planet or universe such a view motivates humans to exploit natural resources to yield instrumental value on the other hand biocentrism refers to protecting the intrinsic value of all beings and not only humans intrinsic value refers to an organism holding a value of its own without any relations to other beings anthropocentric aim to maximize on the instrumental value of nonhuman beings while biocentric’s such as taylor work towards preserving the intrinsic value of all beings\n",
      "\n",
      "from an anthropocentric view surviving the catastrophe made ann the last person on the planet and the most significant individual in the universe this view makes ann superior to other species and separates her from nature with the adoption of this view ann could put her interests first as anthropocentrism states that only humans have genuine interests source the anthropocentric view diminishes any form of value nonhuman animals have which further opens doors for people to pursue activities such as hunting overgrazing deforestation etc they desire without any concern for nature as a result ann’s actions could be considered justifiable from an anthropocentric view\n",
      "\n",
      "biocentrism challenges human superiority over other animals and extends intrinsic value to other beings source this view emphasizes each living being possesses inherent value and to portray respect towards all living beings while anthropocentrism separates and places man beyond nature taylor’s biocentric view focuses on making the man a part of the natural system a clear distinction can be observed between anthropocentrism being focused on fulfilling human interests while biocentrism aimed to appreciate the value and morality outside of human interestssource\n",
      "\n",
      "taylor’s biocentric outlook stands on four pillars community interdependence and teleological centers of life as well as denial of human superiority source these four pillars together would render ann’s actions as morally impermissible from a biocentric outlook teleological center of life portrays how each organism’s primary goal is to survive while community and interdependence of life show how our actions affect our ecosystems as well as how essential other organisms are for our survival in detail system interdependency talks about the mutual relationship organisms have with each other for instance humans with trees for the supply of oxygen and trees getting watered or germinated with the assistance of humans the final pillar the denial of human superiority is included by taylor to challenge the anthropocentric view thereby condemning the action of ann \n",
      "\n",
      "taylor would see destroying of remaining life by ann as the destruction of all the pillars of biocentrism the actions of ann would disturb the remaining ecosystem and the survival instincts of the remaining beings due to these actions there would also be no interdependence of life as ann would be the last living being within the universe in doing so ann also accepts human superiority by putting her interests before further knocking down the final pillar of a biocentric world for taylor this would be a catastrophic fall of the biocentrism from the planet \n",
      "\n",
      "finally it’s important to mention how taylor does make exceptions for cases where inflicting pain on other animals is necessary for human survival for instance a starving man can eat the meat of another animal or if ann’s cucumber allergies posed a serious threat to her survival then killing them would be justified as in doing so she protects her primary goal of survival however ann’s primary reason for the destruction is because of her allergies to cucumber and to gain a sense of purpose until her final breath following these events show how ann views the world from an anthropocentric lens and doesn’t hold a rational person’s view as per taylor in other words from a biocentric outlook as much as this morally impermissible the more it seems permissible from an anthropocentric view \n",
      "\n"
     ]
    }
   ],
   "source": [
    "final_text = lower_case.translate(str.maketrans('','',string.punctuation))\n",
    "print (final_text)"
   ]
  },
  {
   "cell_type": "code",
   "execution_count": 5,
   "metadata": {},
   "outputs": [
    {
     "name": "stdout",
     "output_type": "stream",
     "text": [
      "['anthropocentrism', 'refers', 'to', 'the', 'belief', 'of', 'human', 'beings', 'as', 'the', 'most', 'significant', 'species', 'on', 'the', 'planet', 'or', 'universe', 'such', 'a', 'view', 'motivates', 'humans', 'to', 'exploit', 'natural', 'resources', 'to', 'yield', 'instrumental', 'value', 'on', 'the', 'other', 'hand', 'biocentrism', 'refers', 'to', 'protecting', 'the', 'intrinsic', 'value', 'of', 'all', 'beings', 'and', 'not', 'only', 'humans', 'intrinsic', 'value', 'refers', 'to', 'an', 'organism', 'holding', 'a', 'value', 'of', 'its', 'own', 'without', 'any', 'relations', 'to', 'other', 'beings', 'anthropocentric', 'aim', 'to', 'maximize', 'on', 'the', 'instrumental', 'value', 'of', 'nonhuman', 'beings', 'while', 'biocentric’s', 'such', 'as', 'taylor', 'work', 'towards', 'preserving', 'the', 'intrinsic', 'value', 'of', 'all', 'beings', 'from', 'an', 'anthropocentric', 'view', 'surviving', 'the', 'catastrophe', 'made', 'ann', 'the', 'last', 'person', 'on', 'the', 'planet', 'and', 'the', 'most', 'significant', 'individual', 'in', 'the', 'universe', 'this', 'view', 'makes', 'ann', 'superior', 'to', 'other', 'species', 'and', 'separates', 'her', 'from', 'nature', 'with', 'the', 'adoption', 'of', 'this', 'view', 'ann', 'could', 'put', 'her', 'interests', 'first', 'as', 'anthropocentrism', 'states', 'that', 'only', 'humans', 'have', 'genuine', 'interests', 'source', 'the', 'anthropocentric', 'view', 'diminishes', 'any', 'form', 'of', 'value', 'nonhuman', 'animals', 'have', 'which', 'further', 'opens', 'doors', 'for', 'people', 'to', 'pursue', 'activities', 'such', 'as', 'hunting', 'overgrazing', 'deforestation', 'etc', 'they', 'desire', 'without', 'any', 'concern', 'for', 'nature', 'as', 'a', 'result', 'ann’s', 'actions', 'could', 'be', 'considered', 'justifiable', 'from', 'an', 'anthropocentric', 'view', 'biocentrism', 'challenges', 'human', 'superiority', 'over', 'other', 'animals', 'and', 'extends', 'intrinsic', 'value', 'to', 'other', 'beings', 'source', 'this', 'view', 'emphasizes', 'each', 'living', 'being', 'possesses', 'inherent', 'value', 'and', 'to', 'portray', 'respect', 'towards', 'all', 'living', 'beings', 'while', 'anthropocentrism', 'separates', 'and', 'places', 'man', 'beyond', 'nature', 'taylor’s', 'biocentric', 'view', 'focuses', 'on', 'making', 'the', 'man', 'a', 'part', 'of', 'the', 'natural', 'system', 'a', 'clear', 'distinction', 'can', 'be', 'observed', 'between', 'anthropocentrism', 'being', 'focused', 'on', 'fulfilling', 'human', 'interests', 'while', 'biocentrism', 'aimed', 'to', 'appreciate', 'the', 'value', 'and', 'morality', 'outside', 'of', 'human', 'interestssource', 'taylor’s', 'biocentric', 'outlook', 'stands', 'on', 'four', 'pillars', 'community', 'interdependence', 'and', 'teleological', 'centers', 'of', 'life', 'as', 'well', 'as', 'denial', 'of', 'human', 'superiority', 'source', 'these', 'four', 'pillars', 'together', 'would', 'render', 'ann’s', 'actions', 'as', 'morally', 'impermissible', 'from', 'a', 'biocentric', 'outlook', 'teleological', 'center', 'of', 'life', 'portrays', 'how', 'each', 'organism’s', 'primary', 'goal', 'is', 'to', 'survive', 'while', 'community', 'and', 'interdependence', 'of', 'life', 'show', 'how', 'our', 'actions', 'affect', 'our', 'ecosystems', 'as', 'well', 'as', 'how', 'essential', 'other', 'organisms', 'are', 'for', 'our', 'survival', 'in', 'detail', 'system', 'interdependency', 'talks', 'about', 'the', 'mutual', 'relationship', 'organisms', 'have', 'with', 'each', 'other', 'for', 'instance', 'humans', 'with', 'trees', 'for', 'the', 'supply', 'of', 'oxygen', 'and', 'trees', 'getting', 'watered', 'or', 'germinated', 'with', 'the', 'assistance', 'of', 'humans', 'the', 'final', 'pillar', 'the', 'denial', 'of', 'human', 'superiority', 'is', 'included', 'by', 'taylor', 'to', 'challenge', 'the', 'anthropocentric', 'view', 'thereby', 'condemning', 'the', 'action', 'of', 'ann', 'taylor', 'would', 'see', 'destroying', 'of', 'remaining', 'life', 'by', 'ann', 'as', 'the', 'destruction', 'of', 'all', 'the', 'pillars', 'of', 'biocentrism', 'the', 'actions', 'of', 'ann', 'would', 'disturb', 'the', 'remaining', 'ecosystem', 'and', 'the', 'survival', 'instincts', 'of', 'the', 'remaining', 'beings', 'due', 'to', 'these', 'actions', 'there', 'would', 'also', 'be', 'no', 'interdependence', 'of', 'life', 'as', 'ann', 'would', 'be', 'the', 'last', 'living', 'being', 'within', 'the', 'universe', 'in', 'doing', 'so', 'ann', 'also', 'accepts', 'human', 'superiority', 'by', 'putting', 'her', 'interests', 'before', 'further', 'knocking', 'down', 'the', 'final', 'pillar', 'of', 'a', 'biocentric', 'world', 'for', 'taylor', 'this', 'would', 'be', 'a', 'catastrophic', 'fall', 'of', 'the', 'biocentrism', 'from', 'the', 'planet', 'finally', 'it’s', 'important', 'to', 'mention', 'how', 'taylor', 'does', 'make', 'exceptions', 'for', 'cases', 'where', 'inflicting', 'pain', 'on', 'other', 'animals', 'is', 'necessary', 'for', 'human', 'survival', 'for', 'instance', 'a', 'starving', 'man', 'can', 'eat', 'the', 'meat', 'of', 'another', 'animal', 'or', 'if', 'ann’s', 'cucumber', 'allergies', 'posed', 'a', 'serious', 'threat', 'to', 'her', 'survival', 'then', 'killing', 'them', 'would', 'be', 'justified', 'as', 'in', 'doing', 'so', 'she', 'protects', 'her', 'primary', 'goal', 'of', 'survival', 'however', 'ann’s', 'primary', 'reason', 'for', 'the', 'destruction', 'is', 'because', 'of', 'her', 'allergies', 'to', 'cucumber', 'and', 'to', 'gain', 'a', 'sense', 'of', 'purpose', 'until', 'her', 'final', 'breath', 'following', 'these', 'events', 'show', 'how', 'ann', 'views', 'the', 'world', 'from', 'an', 'anthropocentric', 'lens', 'and', 'doesn’t', 'hold', 'a', 'rational', 'person’s', 'view', 'as', 'per', 'taylor', 'in', 'other', 'words', 'from', 'a', 'biocentric', 'outlook', 'as', 'much', 'as', 'this', 'morally', 'impermissible', 'the', 'more', 'it', 'seems', 'permissible', 'from', 'an', 'anthropocentric', 'view']\n"
     ]
    }
   ],
   "source": [
    "token = final_text.split()\n",
    "print(token)"
   ]
  },
  {
   "cell_type": "code",
   "execution_count": 6,
   "metadata": {},
   "outputs": [],
   "source": [
    "stop_words = [\"i\", \"me\", \"my\", \"myself\", \"we\", \"our\", \"ours\", \"ourselves\", \"you\", \"your\", \"yours\", \"yourself\",\n",
    "              \"yourselves\", \"he\", \"him\", \"his\", \"himself\", \"she\", \"her\", \"hers\", \"herself\", \"it\", \"its\", \"itself\",\n",
    "              \"they\", \"them\", \"their\", \"theirs\", \"themselves\", \"what\", \"which\", \"who\", \"whom\", \"this\", \"that\", \"these\",\n",
    "              \"those\", \"am\", \"is\", \"are\", \"was\", \"were\", \"be\", \"been\", \"being\", \"have\", \"has\", \"had\", \"having\", \"do\",\n",
    "              \"does\", \"did\", \"doing\", \"a\", \"an\", \"the\", \"and\", \"but\", \"if\", \"or\", \"because\", \"as\", \"until\", \"while\",\n",
    "              \"of\", \"at\", \"by\", \"for\", \"with\", \"about\", \"against\", \"between\", \"into\", \"through\", \"during\", \"before\",\n",
    "              \"after\", \"above\", \"below\", \"to\", \"from\", \"up\", \"down\", \"in\", \"out\", \"on\", \"off\", \"over\", \"under\", \"again\",\n",
    "              \"further\", \"then\", \"once\", \"here\", \"there\", \"when\", \"where\", \"why\", \"how\", \"all\", \"any\", \"both\", \"each\",\n",
    "              \"few\", \"more\", \"most\", \"other\", \"some\", \"such\", \"no\", \"nor\", \"not\", \"only\", \"own\", \"same\", \"so\", \"than\",\n",
    "              \"too\", \"very\", \"s\", \"t\", \"can\", \"will\", \"just\", \"don\", \"should\", \"now\"]\n"
   ]
  },
  {
   "cell_type": "code",
   "execution_count": 117,
   "metadata": {},
   "outputs": [
    {
     "name": "stdout",
     "output_type": "stream",
     "text": [
      "['ecocentric', 'view', 'owning', 'pets', 'doesn’t', 'necessarily', 'disrupt', 'entire', 'ecosystem', 'people', 'tend', 'get', 'pets', 'love', 'animals', 'thus', 'love', 'domesticated', 'pets', 'treat', 'utmost', 'care', 'familiar', 'leopold’s', 'view', 'nothing', 'moral', 'standing', 'owned', 'however', 'pet', 'along', 'lines', 'helping', 'animal', 'mature', 'rather', 'classifying', 'property', 'way', 'don’t', 'consider', 'small', 'children', 'property', 'parents', 'moreover', 'breeding', 'among', 'animals', 'allowed', 'it’s', 'causing', 'overpopulation', 'earlier', 'undergraduate', 'degree', 'took', 'course', 'mentioning', 'organism’s', 'primary', 'goal', 'pushing', 'genetic', 'line', 'stopping', 'would', 'unnatural', 'unless', 'it’s', 'causing', 'overpopulation', 'issues', 'thereby', 'disturbing', 'ecosystem', 'ecocentrism', 'doesn’t', 'focus', 'suffering', 'one', 'animal', 'instead', 'emphasizes', 'using', 'collective', 'lens', 'ensure', 'ecosystems', 'whole', 'thrive', 'leopold', 'said', '“a', 'thing', 'right', 'tends', 'preserve', 'integrity', 'stability', 'beauty', 'biotic', 'community”', 'thus', 'start', 'abusing', 'pets', 'cause', 'excessive', 'breeding', 'among', 'causes', 'disturbance', 'nature', 'it’s', 'morally', 'impermissible']\n"
     ]
    }
   ],
   "source": [
    "final_words = []\n",
    "for word in token:\n",
    "    if word not in stop_words:\n",
    "        final_words.append(word)\n",
    "        \n",
    "print(final_words)        "
   ]
  },
  {
   "cell_type": "code",
   "execution_count": 118,
   "metadata": {},
   "outputs": [],
   "source": [
    "emotion_list =[]\n",
    "with open('emotions.txt','r') as file:\n",
    "    for line in file:\n",
    "        clear_line = line.replace(\"\\n\",'').replace(\",\",'').replace(\"'\",'').strip()\n",
    "        wrd, emotion = clear_line.split(':')\n",
    "        if wrd in final_words:\n",
    "            emotion_list.append(emotion)\n",
    "        "
   ]
  },
  {
   "cell_type": "code",
   "execution_count": 119,
   "metadata": {},
   "outputs": [
    {
     "name": "stdout",
     "output_type": "stream",
     "text": [
      "[' sad']\n"
     ]
    }
   ],
   "source": [
    "print(emotion_list)"
   ]
  },
  {
   "cell_type": "code",
   "execution_count": 120,
   "metadata": {},
   "outputs": [
    {
     "name": "stdout",
     "output_type": "stream",
     "text": [
      "Counter({' sad': 1})\n"
     ]
    }
   ],
   "source": [
    "c= Counter(emotion_list)\n",
    "print (c)"
   ]
  },
  {
   "cell_type": "code",
   "execution_count": 121,
   "metadata": {},
   "outputs": [
    {
     "data": {
      "text/plain": [
       "<function matplotlib.pyplot.show(close=None, block=None)>"
      ]
     },
     "execution_count": 121,
     "metadata": {},
     "output_type": "execute_result"
    },
    {
     "data": {
      "image/png": "[encoded data removed]",
      "text/plain": [
       "<Figure size 432x288 with 1 Axes>"
      ]
     },
     "metadata": {
      "needs_background": "light"
     },
     "output_type": "display_data"
    }
   ],
   "source": [
    "math.bar(c.keys(),c.values())\n",
    "math.savefig('graph.png')\n",
    "math.show"
   ]
  },
  {
   "cell_type": "code",
   "execution_count": null,
   "metadata": {},
   "outputs": [],
   "source": []
  }
 ],
 "metadata": {
  "kernelspec": {
   "display_name": "Python 3",
   "language": "python",
   "name": "python3"
  },
  "language_info": {
   "codemirror_mode": {
    "name": "ipython",
    "version": 3
   },
   "file_extension": ".py",
   "mimetype": "text/x-python",
   "name": "python",
   "nbconvert_exporter": "python",
   "pygments_lexer": "ipython3",
   "version": "3.8.5"
  }
 },
 "nbformat": 4,
 "nbformat_minor": 4
}
